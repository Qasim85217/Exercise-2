{
 "cells": [
  {
   "cell_type": "markdown",
   "metadata": {},
   "source": [
    "# Assignment 2( List, Dictionary, Loops, if-else)\n"
   ]
  },
  {
   "cell_type": "code",
   "execution_count": 1,
   "metadata": {},
   "outputs": [
    {
     "name": "stdout",
     "output_type": "stream",
     "text": [
      "Your shopping list is\n",
      "apple\n",
      "apple\n"
     ]
    }
   ],
   "source": [
    "# Q:1\n",
    "shop_list =[]\n",
    "items_quantity=int(input(\"How many items you want to add?\"))\n",
    "if items_quantity > 0:\n",
    "    for i in range (0,items_quantity):\n",
    "        item_name=input(\"Please Enter your item name\")\n",
    "        shop_list.append(item_name)\n",
    "    print(\"Your shopping list is\")\n",
    "    for j in range (0,items_quantity):\n",
    "        print(shop_list[j])\n",
    "    del_item_cnfrm =input(\"Are you want to remove any item?(Y/N)\")\n",
    "    del_item_cnfrm=del_item_cnfrm.upper()\n",
    "    if del_item_cnfrm==\"Y\":\n",
    "        del_item_quantity=int(input(\"how many items you want to delete?\"))\n",
    "        if del_item_quantity>0 and del_item_quantity<=items_quantity:\n",
    "            for i in range(0,del_item_quantity):\n",
    "                del_item=input(\"Enter the name which item you want to delete.\")\n",
    "                shop_list.remove(del_item)\n",
    "            print(\"Your current shopping list is:\")\n",
    "            for j in range (0,items_quantity-del_item_quantity):\n",
    "                print(shop_list[j])\n",
    "\n"
   ]
  },
  {
   "cell_type": "code",
   "execution_count": null,
   "metadata": {},
   "outputs": [],
   "source": [
    "# Q:2"
   ]
  },
  {
   "cell_type": "code",
   "execution_count": 2,
   "metadata": {},
   "outputs": [
    {
     "name": "stdout",
     "output_type": "stream",
     "text": [
      "Word frequencies:\n",
      "apple: 3\n",
      "banana: 2\n",
      "orange: 1\n",
      "grape: 1\n"
     ]
    }
   ],
   "source": [
    "# Q:3\n",
    "wordlist = [\"apple\", \"banana\", \"apple\", \"orange\", \"banana\", \"grape\", \"apple\"]\n",
    "wordfrequency = {}\n",
    "\n",
    "for word in wordlist:\n",
    "    if word in wordfrequency:\n",
    "        wordfrequency[word] += 1\n",
    "    else:\n",
    "        wordfrequency[word] = 1\n",
    "\n",
    "print(\"Word frequencies:\")\n",
    "for key, value in wordfrequency.items():\n",
    "    print(f\"{key}: {value}\")\n"
   ]
  },
  {
   "cell_type": "code",
   "execution_count": 3,
   "metadata": {},
   "outputs": [],
   "source": [
    "# Q:4\n",
    "password = input(\"Enter your password: \")\n",
    "\n",
    "if len(password) < 8:\n",
    "    print(\" Password should be at least 8 characters long!\")\n",
    "else:\n",
    "    digit = False\n",
    "    letter = False\n",
    "    for char in password:\n",
    "        if char.isdigit():\n",
    "            digit = True\n",
    "        elif char.isalpha():\n",
    "            letter = True\n",
    "\n",
    "    if not digit:\n",
    "        print(\"Password Should Contain Atleast one digit!\")\n",
    "    if not letter:\n",
    "        print(\"Password should Contain Atleast one letter! \")\n",
    "    else:\n",
    "        print(\"Password is Strong.\")\n",
    "\n",
    "\n"
   ]
  },
  {
   "cell_type": "code",
   "execution_count": 5,
   "metadata": {},
   "outputs": [
    {
     "name": "stdout",
     "output_type": "stream",
     "text": [
      "Voter 1:\n",
      "Candidates:\n",
      "\n",
      "1.Canditate A\n",
      "2.Canditate B\n",
      "3.Canditate C\n",
      "Your vote for Candidate A is submited sucessfully.\n",
      "\n",
      "The vote for Candidate A is 1\n",
      "The vote for Candidate B is 0\n",
      "The vote for Candidate C is 0\n"
     ]
    }
   ],
   "source": [
    "# Q:5\n",
    "candidate={\"Candidate A\":0,\n",
    "           \"Candidate B\":0,\n",
    "           \"Candidate C\":0}\n",
    "voters_quantity=int(input(\"What is the quantity of voters?\"))\n",
    "for i in range(voters_quantity):\n",
    "    print(f\"Voter {i+1}:\")\n",
    "    print(\"Candidates:\\n\\n1.Canditate A\\n2.Canditate B\\n3.Canditate C\")\n",
    "    vote=int(input(\"Which Number Candidate you want to give vote\"))\n",
    "    if vote==1:\n",
    "        candidate[\"Candidate A\"]+=1\n",
    "        print(\"Your vote for Candidate A is submited sucessfully.\\n\")\n",
    "    elif vote==2:\n",
    "        candidate[\"Candidate B\"]+=1\n",
    "        print(\"Your vote for Candidate B is submited sucessfully.\\n\")\n",
    "    elif vote==3:\n",
    "        candidate[\"Candidate C\"]+=1\n",
    "        print(\"Your vote for Candidate C is submited sucessfully.\\n\")\n",
    "        print(\"\\n\")\n",
    "for key,value in candidate.items():\n",
    "    print(f\"The vote for {key} is {value}\")"
   ]
  },
  {
   "cell_type": "code",
   "execution_count": null,
   "metadata": {},
   "outputs": [],
   "source": []
  }
 ],
 "metadata": {
  "kernelspec": {
   "display_name": "Python 3 (ipykernel)",
   "language": "python",
   "name": "python3"
  },
  "language_info": {
   "codemirror_mode": {
    "name": "ipython",
    "version": 3
   },
   "file_extension": ".py",
   "mimetype": "text/x-python",
   "name": "python",
   "nbconvert_exporter": "python",
   "pygments_lexer": "ipython3",
   "version": "3.12.0"
  }
 },
 "nbformat": 4,
 "nbformat_minor": 2
}
